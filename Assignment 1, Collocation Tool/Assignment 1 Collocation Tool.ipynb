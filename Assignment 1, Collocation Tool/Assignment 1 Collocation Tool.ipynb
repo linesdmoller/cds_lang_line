{
 "cells": [
  {
   "cell_type": "markdown",
   "id": "fc8213a2-057c-4901-8ae1-430d9e8fc45b",
   "metadata": {},
   "source": [
    "# Assignment 1: Collocation Tool\n",
    "#### By Line Stampe-Degn Møller\n",
    "\n",
    "##### Assignment and data:\n",
    "https://github.com/CDS-AU-DK\n",
    "\n",
    "https://github.com/CDS-AU-DK/cds-language/blob/main/assignments/assignment1.md"
   ]
  },
  {
   "cell_type": "markdown",
   "id": "a85f4db0-1d63-4e7c-8f95-6fbbb4989f51",
   "metadata": {},
   "source": [
    "In terminal, add:\n",
    "- pip install spacy\n",
    "- python -m spacy download en_core_web_sm"
   ]
  },
  {
   "cell_type": "code",
   "execution_count": 1,
   "id": "ef69389e-768f-4a25-93bd-618593d7347c",
   "metadata": {
    "execution": {
     "iopub.execute_input": "2022-03-02T01:05:57.661225Z",
     "iopub.status.busy": "2022-03-02T01:05:57.660134Z",
     "iopub.status.idle": "2022-03-02T01:05:58.552359Z",
     "shell.execute_reply": "2022-03-02T01:05:58.551629Z",
     "shell.execute_reply.started": "2022-03-02T01:05:57.661176Z"
    },
    "tags": []
   },
   "outputs": [],
   "source": [
    "# Import libraries\n",
    "import spacy\n",
    "import os\n",
    "nlp = spacy.load(\"en_core_web_sm\")"
   ]
  },
  {
   "cell_type": "markdown",
   "id": "ed5d7395-adb7-4b79-af89-26f124d062ce",
   "metadata": {},
   "source": [
    "### 1. Take a user-defined search term and a user-defined windows size"
   ]
  },
  {
   "cell_type": "code",
   "execution_count": 2,
   "id": "f441ebcd-61cd-47b3-be70-114976b6bfe1",
   "metadata": {
    "execution": {
     "iopub.execute_input": "2022-03-02T01:06:00.234251Z",
     "iopub.status.busy": "2022-03-02T01:06:00.233645Z",
     "iopub.status.idle": "2022-03-02T01:06:00.240638Z",
     "shell.execute_reply": "2022-03-02T01:06:00.239409Z",
     "shell.execute_reply.started": "2022-03-02T01:06:00.234202Z"
    },
    "tags": []
   },
   "outputs": [],
   "source": [
    "# Define search word, pos (word class) and window size:\n",
    "keyword = \"sailor\"\n",
    "pos = \"NOUN\"\n",
    "window_size = 3  # Before and after keyword (3 + keyword + 3)"
   ]
  },
  {
   "cell_type": "markdown",
   "id": "36ec9a87-cbca-4167-a9a8-306fdacc9b2a",
   "metadata": {},
   "source": [
    "### 2. Take one specific text which the user can define"
   ]
  },
  {
   "cell_type": "code",
   "execution_count": 3,
   "id": "a620a028-fd4d-4243-b9e9-55d0f41a0265",
   "metadata": {
    "execution": {
     "iopub.execute_input": "2022-03-02T01:06:01.727690Z",
     "iopub.status.busy": "2022-03-02T01:06:01.727079Z",
     "iopub.status.idle": "2022-03-02T01:06:01.785868Z",
     "shell.execute_reply": "2022-03-02T01:06:01.784391Z",
     "shell.execute_reply.started": "2022-03-02T01:06:01.727641Z"
    },
    "tags": []
   },
   "outputs": [],
   "source": [
    "# Load one text from the data folder\n",
    "txt = open(\"../CDS-LANG/100_english_novels/corpus/Conrad_Nostromo_1904.txt\").read()"
   ]
  },
  {
   "cell_type": "code",
   "execution_count": 4,
   "id": "0214f58e-58da-45b8-b78d-c9e427046044",
   "metadata": {
    "execution": {
     "iopub.execute_input": "2022-03-02T01:06:03.336601Z",
     "iopub.status.busy": "2022-03-02T01:06:03.335947Z",
     "iopub.status.idle": "2022-03-02T01:06:03.345342Z",
     "shell.execute_reply": "2022-03-02T01:06:03.343999Z",
     "shell.execute_reply.started": "2022-03-02T01:06:03.336552Z"
    },
    "tags": []
   },
   "outputs": [
    {
     "name": "stdout",
     "output_type": "stream",
     "text": [
      "The data type is a: <class 'str'>\n",
      "#################\n",
      "﻿NOSTROMO\n",
      "A TALE OF THE SEABOARD\n",
      "By Joseph Conrad\n",
      "\"So foul a sky clears not without a storm.\" - SHAKESPEARE\n",
      "TO JOHN GALSWORTHY\n",
      "AUTHOR'S NOTE\n",
      "\" Nostromo \" is the most anxiously meditated of the longer novels which\n",
      "belong to the period following upon the publication of the \"Typhoon\"\n",
      "volume of short stories.\n",
      "I don't  mean to say that I became then conscious of any impending change\n",
      "in my mentality and in my attitude towards the tasks of my writing\n",
      "life. And perhaps there was never any change, except\n"
     ]
    }
   ],
   "source": [
    "# Check the data type and print the first part of the text to know what format I'm working with:\n",
    "print(f\"The data type is a: {type(txt)}\")  # Result: 'str' (a string), which is the expected data type to move forward with.\n",
    "print(\"#################\")\n",
    "print(txt[:500])  # Sample from first part of string"
   ]
  },
  {
   "cell_type": "code",
   "execution_count": 9,
   "id": "458646d2-4d41-4c11-81bf-872827adf0a3",
   "metadata": {
    "execution": {
     "iopub.execute_input": "2022-03-02T01:13:38.136886Z",
     "iopub.status.busy": "2022-03-02T01:13:38.136268Z",
     "iopub.status.idle": "2022-03-02T01:13:38.220952Z",
     "shell.execute_reply": "2022-03-02T01:13:38.220374Z",
     "shell.execute_reply.started": "2022-03-02T01:13:38.136838Z"
    },
    "tags": []
   },
   "outputs": [
    {
     "name": "stdout",
     "output_type": "stream",
     "text": [
      "﻿nostromo\n",
      "a tale of the seaboard\n",
      "by joseph conrad\n",
      "so foul a sky clears not without a storm  shakespeare\n",
      "to john galsworthy\n",
      "authors note\n",
      " nostromo  is the most anxiously meditated of the longer novels which\n",
      "belong to the period following upon the publication of the typhoon\n",
      "volume of short stories\n",
      "i dont  mean to say that i became then conscious of any impending change\n",
      "in my mentality and in my attitude towards the tasks of my writing\n",
      "life and perhaps there was never any change except in that myst\n"
     ]
    }
   ],
   "source": [
    "import string\n",
    "\n",
    "# Normalization of text string:\n",
    "# Make everything lower case\n",
    "txt_lower = txt.lower()\n",
    "\n",
    "# Remove all new lines\n",
    "txt_no_newlines = txt_lower.rstrip(\"\\n\") \n",
    "\n",
    "# Remove all punctuations\n",
    "txt_clean = txt_no_newlines.translate(str.maketrans('', '', string.punctuation))  # https://datagy.io/python-remove-punctuation-from-string/\n",
    "    # Comment: by removing all punctuation, I'm also removing some meaning, fx. genitive case: \"sailors\" vs. \"sailor's\".\n",
    "\n",
    "# Check output\n",
    "print(txt_clean[:500])  # Sample from first part of string"
   ]
  },
  {
   "cell_type": "code",
   "execution_count": 7,
   "id": "1487158e-13b3-415d-a451-4eda18519d60",
   "metadata": {
    "execution": {
     "iopub.execute_input": "2022-03-02T01:07:51.524036Z",
     "iopub.status.busy": "2022-03-02T01:07:51.523897Z",
     "iopub.status.idle": "2022-03-02T01:09:11.041321Z",
     "shell.execute_reply": "2022-03-02T01:09:11.040682Z",
     "shell.execute_reply.started": "2022-03-02T01:07:51.524021Z"
    },
    "tags": []
   },
   "outputs": [
    {
     "name": "stdout",
     "output_type": "stream",
     "text": [
      "﻿nostromo\n",
      "a tale of the seaboard\n",
      "by joseph conrad\n",
      "so foul a sky clears not without a storm  shakespeare\n",
      "to john galsworthy\n",
      "authors note\n",
      " nostromo  is the most anxiously meditated of the longer novels which\n",
      "belong to the period following upon the publication of the typhoon\n",
      "volume of short stories\n",
      "i dont  mean to say that i became then conscious of any impending change\n",
      "in my mentality and in my attitude towards the tasks of my writing\n",
      "life and perhaps there was never any change except in that mysterious\n",
      "extraneous thing which has nothing to do with the theories of art a\n",
      "subtle change in the nature of the inspiration a phenomenon for which i\n",
      "can not in any way be held responsible what however did cause me some\n",
      "concern was that after finishing the last story of the typhoon volume\n",
      "it seemed somehow that there was nothing more in the world to write\n",
      "about\n",
      "this so strangely negative but disturbing mood lasted some little\n",
      "time and then as with many of my longer stories the first hint for\n",
      "nostromo came to me in the shape of a vagrant anecdote completely\n",
      "destitute of valuable details\n",
      "as a matter of fact in 1875 or 6 when very young in the west indies\n",
      "or rather in the gulf of mexico for my contacts with land were short\n",
      "few and fleeting i heard the story of some man who was supposed to\n",
      "have stolen singlehanded a whole lighterfull of silver somewhere on\n",
      "the tierra firme seaboard during the troubles of a revolution\n",
      "on the face of it this was something of a feat but i heard no details\n",
      "and having no particular interest in crime qua crime i was not likely to\n",
      "keep that one in my mind and i forgot it till twentysix or seven\n",
      "years afterwards i came upon the very thing in a shabby volume picked\n",
      "up outside a secondhand bookshop it was the life story of an american\n",
      "seaman written by himself with the assistance of a journalist in the\n",
      "course of his wanderings that american sailor worked for some months on\n",
      "board a schooner the master and owner of which was the thief of whom i\n",
      "had heard in my very young days i have no doubt of that because there\n",
      "could hardly have been two exploits of that peculiar kind in the same\n",
      "part of the world and both connected with a south american revolution\n",
      "the fellow had actually managed to steal a lighter with silver and\n",
      "this it seems only because he was implicitly trusted by his employers\n",
      "who must have been singularly poor judges of character in the sailors\n",
      "story he is represented as an unmitigated rascal a small cheat\n"
     ]
    }
   ],
   "source": [
    "# Put through a spaCy pipeline (tokenization = seperate into words and characters).\n",
    "doc = nlp(txt_clean)\n",
    "\n",
    "# Check output\n",
    "print(doc[:500])  # Sample from first part of string"
   ]
  },
  {
   "cell_type": "markdown",
   "id": "2cddda98-1c23-4f3b-8ccb-e417b0d798fc",
   "metadata": {},
   "source": [
    "### 3. Find all the context words which appear +- the window size from the search term in that text"
   ]
  },
  {
   "cell_type": "code",
   "execution_count": 10,
   "id": "d8bdfead-851a-4868-b631-5994a74cfc62",
   "metadata": {
    "execution": {
     "iopub.execute_input": "2022-03-02T01:13:50.784028Z",
     "iopub.status.busy": "2022-03-02T01:13:50.783429Z",
     "iopub.status.idle": "2022-03-02T01:13:50.861276Z",
     "shell.execute_reply": "2022-03-02T01:13:50.860786Z",
     "shell.execute_reply.started": "2022-03-02T01:13:50.783980Z"
    },
    "tags": []
   },
   "outputs": [
    {
     "name": "stdout",
     "output_type": "stream",
     "text": [
      "384 sailor\n",
      "487 sailors\n",
      "604 sailor\n",
      "709 sailor\n",
      "3379 sailors\n",
      "3585 sailors\n",
      "4066 sailors\n",
      "9897 sailor\n",
      "11553 sailor\n",
      "15911 sailor\n",
      "45114 sailor\n",
      "73191 sailor\n",
      "74348 sailor\n",
      "82133 sailor\n",
      "82921 sailor\n",
      "92484 sailors\n",
      "106803 sailor\n",
      "108425 sailors\n",
      "110546 sailors\n",
      "112535 sailor\n",
      "114651 sailors\n",
      "137924 sailor\n",
      "152373 sailors\n",
      "152639 sailors\n",
      "156137 sailor\n",
      "156686 sailor\n",
      "157504 sailor\n",
      "160160 sailor\n",
      "178020 sailor\n"
     ]
    }
   ],
   "source": [
    "# Find instances of \"sailor\" \n",
    "# I choose to check the lemma of each word and then print the original text if the lemma (an the pos) matches the search terms.\n",
    "for token in doc:\n",
    "    if token.lemma_ == keyword and token.pos_ == pos:\n",
    "        print(token.i, token.text)  # Print token index and the token text (NOT lemma/keyword, but original word)\n",
    "    else:\n",
    "        pass"
   ]
  },
  {
   "cell_type": "code",
   "execution_count": 22,
   "id": "4a29fc0e-a869-4516-a258-fbc9896b9283",
   "metadata": {
    "execution": {
     "iopub.execute_input": "2022-03-02T01:48:49.963439Z",
     "iopub.status.busy": "2022-03-02T01:48:49.962810Z",
     "iopub.status.idle": "2022-03-02T01:48:50.039594Z",
     "shell.execute_reply": "2022-03-02T01:48:50.039065Z",
     "shell.execute_reply.started": "2022-03-02T01:48:49.963387Z"
    },
    "tags": []
   },
   "outputs": [
    {
     "name": "stdout",
     "output_type": "stream",
     "text": [
      "[sailor, wanderings that american sailor worked for some]\n",
      "[sailors, character in the sailors\n",
      "story he]\n",
      "[sailor, some quarrel the sailor threatened him what]\n",
      "[sailor, \n",
      "ultimately the sailor disgusted with the]\n",
      "[sailors, \n",
      "two wandering sailors  americanos perhaps]\n",
      "[sailors, other sign the sailors the indian\n",
      "]\n",
      "[sailors,  as the sailors say  is]\n",
      "[sailor, been a\n",
      "sailor in his time]\n",
      "[sailor, hand  as sailor as dock labourer]\n",
      "[sailor, was the italian sailor whom all the]\n",
      "[sailor, the mediterranean\n",
      "sailor come ashore casually]\n",
      "[sailor, but a common sailor i would call]\n",
      "[sailor, cargadores that italian sailor of whom i]\n",
      "[sailor, of that genoese sailor who like me]\n",
      "[sailor, an original italian sailor whom i allowed]\n",
      "[sailors, chirruped softly as sailors\n",
      "do to]\n",
      "[sailor, as\n",
      "a sailor of course i]\n",
      "[sailors, to a\n",
      "sailors ear on such]\n",
      "[sailors, \n",
      "the old sailors aspect was very]\n",
      "[sailor, cast the old sailor with all his]\n",
      "[sailors, especially as to sailors it was different]\n",
      "[sailor, his leisure this sailor felt himself\n",
      "]\n",
      "[sailors, boats ropes chains sailors  of a]\n",
      "[sailors, die ha ha sailors like myself there]\n",
      "[sailor, too  a sailor i may let]\n",
      "[sailor,  nostromo the sailor whom i\n",
      "]\n",
      "[sailor, married myself a sailor should\n",
      "exercise]\n",
      "[sailor, runaway italian\n",
      "sailor for a foreman]\n",
      "[sailor,  a mediterranean sailor come ashore to]\n"
     ]
    }
   ],
   "source": [
    "colloc = []  # Empty list for list for colloc words related to the keyword.\n",
    "\n",
    "# Finding colloc words and saving them in list\n",
    "for token in doc:\n",
    "    if token.lemma_ == keyword and token.pos_ == pos:\n",
    "        before = token.i - window_size        # Defining start index as [window_size] spaces BEFORE the index of the keyword.\n",
    "        after = token.i + window_size + 1     # Defining end index as [window_size] spaces AFTER the index of the keyword (+1 for keyword).\n",
    "        span = doc[before:after]              # Defining the span as the content of the doc string between the index spaces defined earlier.\n",
    "        colloc.append([token, span])          # Saving lists of context words in list.\n",
    "    else:\n",
    "        pass\n",
    "\n",
    "# Printing colloc words for each token.lemma == keyword. First entry in output (before comma) is the token.text (original word, NOT lemma):\n",
    "for i in colloc:\n",
    "    print(i)"
   ]
  },
  {
   "cell_type": "markdown",
   "id": "95d97701-73cd-403c-a1a5-8b7e21278904",
   "metadata": {},
   "source": [
    "### 4. Calculate the mutual information score for each context word"
   ]
  },
  {
   "cell_type": "markdown",
   "id": "8b92c3c9-a29f-4ec9-80ae-1e05afb0af0b",
   "metadata": {},
   "source": [
    "#### Example of MI calculation:\n",
    "###### from https://www.english-corpora.org/mutualInformation.asp\n",
    "\n",
    "##### Formula:\n",
    "MI = log ( (AB * sizeCorpus) / (A * B * span) ) / log (2)\n",
    "\n",
    "Suppose we are calculating the MI for the collocate color near purple in BNC.\n",
    "\n",
    "- A = frequency of node word (e.g. purple): 1262\n",
    "- B = frequency of collocate (e.g. color): 115\n",
    "- AB = frequency of collocate near the node word (e.g. color near purple): 24\n",
    "- sizeCorpus= size of corpus (# words; in this case the BNC): 96,263,399\n",
    "- span = span of words (e.g. 3 to left and 3 to right of node word): 6\n",
    "- log (2) is literally the log10 of the number 2: .30103\n",
    "\n",
    "MI = 11.37 = log ( (24 * 96,263,399) / (1262 * 115 * 6) ) / .30103"
   ]
  },
  {
   "cell_type": "code",
   "execution_count": 23,
   "id": "f6a43b6e-7b28-4559-b8e9-e4984af8c31c",
   "metadata": {
    "execution": {
     "iopub.execute_input": "2022-03-02T01:48:53.886947Z",
     "iopub.status.busy": "2022-03-02T01:48:53.886326Z",
     "iopub.status.idle": "2022-03-02T01:49:21.790022Z",
     "shell.execute_reply": "2022-03-02T01:49:21.789196Z",
     "shell.execute_reply.started": "2022-03-02T01:48:53.886896Z"
    },
    "tags": []
   },
   "outputs": [],
   "source": [
    "import math\n",
    "\n",
    "def calc_freq(token, text):\n",
    "    # Calculate the frequency of a token on a text document (lemma level):\n",
    "    freq = 0\n",
    "    for word in text:\n",
    "        if word.lemma_ == token.lemma_:\n",
    "            freq += 1\n",
    "    return freq\n",
    "\n",
    "\n",
    "def calc_colloc_freq(token, colloc):\n",
    "    freq = 0\n",
    "    # Calculate the frequency of a token on a colloc span (lemma level):\n",
    "    for c in colloc:\n",
    "        span = c[1]\n",
    "        for word in span:\n",
    "            if token.lemma_ == word.lemma_:\n",
    "                freq += 1\n",
    "    return freq\n",
    "\n",
    "\n",
    "sizeCorpus = len(doc)\n",
    "span_size = 2 * window_size\n",
    "log2  = 0.30103\n",
    "\n",
    "output = []  # Empty list for output (result of MI calculations)\n",
    "\n",
    "for c in colloc:\n",
    "    span = c[1]\n",
    "\n",
    "    for word in span:\n",
    "        A = calc_freq(c[0], doc)\n",
    "        B = calc_freq(word, doc)\n",
    "        AB = calc_colloc_freq(word, colloc)\n",
    "        # Calculate the Mutual Information score:\n",
    "        MI = math.log(( (AB * sizeCorpus) / (A * B * span_size) ) / log2)  # https://www.geeksforgeeks.org/log-functions-python/\n",
    "\n",
    "        # Append [term], [freq], [doc_freq], [mut_inf_sco]\n",
    "        output.append([word, AB, B, MI])"
   ]
  },
  {
   "cell_type": "markdown",
   "id": "13a7043d-7b29-4d79-970d-127f3783c185",
   "metadata": {},
   "source": [
    "### 5. Save the results as a CSV file:"
   ]
  },
  {
   "cell_type": "code",
   "execution_count": 24,
   "id": "f54d8ae2-57ed-4d72-b94e-53182ddb791e",
   "metadata": {
    "execution": {
     "iopub.execute_input": "2022-03-02T01:49:22.018441Z",
     "iopub.status.busy": "2022-03-02T01:49:22.018273Z",
     "iopub.status.idle": "2022-03-02T01:49:22.029466Z",
     "shell.execute_reply": "2022-03-02T01:49:22.028963Z",
     "shell.execute_reply.started": "2022-03-02T01:49:22.018425Z"
    },
    "tags": []
   },
   "outputs": [
    {
     "name": "stdout",
     "output_type": "stream",
     "text": [
      "[wanderings, 1, 2, 7.3007682065800275]\n",
      "[that, 3, 1757, 1.6211645876209848]\n",
      "[american, 1, 18, 5.1035436292438074]\n",
      "[sailor, 29, 35, 7.805863155637033]\n",
      "[worked, 1, 103, 3.3591863989103365]\n",
      "[for, 2, 1327, 1.4963865333677102]\n",
      "[some, 2, 295, 3.000087211360098]\n",
      "[character, 1, 54, 4.004931340575698]\n",
      "[in, 2, 3240, 0.6037339589135424]\n",
      "[the, 13, 12912, 1.0929523540917792]\n",
      "[sailors, 29, 35, 7.805863155637033]\n",
      "[\n",
      ", 14, 14593, 1.0446754760874852]\n",
      "[story, 1, 32, 4.528179484340246]\n",
      "[he, 2, 3817, 0.43984251495468785]\n",
      "[some, 2, 295, 3.000087211360098]\n",
      "[quarrel, 1, 6, 6.2021559179119174]\n",
      "[the, 13, 12912, 1.0929523540917792]\n",
      "[sailor, 29, 35, 7.805863155637033]\n",
      "[threatened, 1, 3, 6.895303098471863]\n",
      "[him, 2, 3817, 0.43984251495468785]\n",
      "[what, 1, 410, 1.977758227441619]\n",
      "[\n",
      ", 14, 14593, 1.0446754760874852]\n",
      "[ultimately, 1, 5, 6.384477474705872]\n",
      "[the, 13, 12912, 1.0929523540917792]\n",
      "[sailor, 29, 35, 7.805863155637033]\n",
      "[disgusted, 1, 6, 6.2021559179119174]\n",
      "[with, 2, 1925, 1.1243813209780331]\n",
      "[the, 13, 12912, 1.0929523540917792]\n",
      "[\n",
      ", 14, 14593, 1.0446754760874852]\n",
      "[two, 1, 195, 2.7209158285762256]\n",
      "[wandering, 1, 14, 5.354858057524714]\n",
      "[sailors, 29, 35, 7.805863155637033]\n",
      "[ , 8, 1201, 2.9824471067398246]\n",
      "[americanos, 1, 1, 7.993915387139972]\n",
      "[perhaps, 1, 121, 3.198124841543231]\n",
      "[other, 1, 239, 2.5174518352084614]\n",
      "[sign, 1, 52, 4.042671668558545]\n",
      "[the, 13, 12912, 1.0929523540917792]\n",
      "[sailors, 29, 35, 7.805863155637033]\n",
      "[the, 13, 12912, 1.0929523540917792]\n",
      "[indian, 1, 23, 4.858421171210823]\n",
      "[\n",
      ", 14, 14593, 1.0446754760874852]\n",
      "[ , 8, 1201, 2.9824471067398246]\n",
      "[as, 6, 1151, 2.7372884476461445]\n",
      "[the, 13, 12912, 1.0929523540917792]\n",
      "[sailors, 29, 35, 7.805863155637033]\n",
      "[say, 1, 535, 1.7116486402439657]\n",
      "[ , 8, 1201, 2.9824471067398246]\n",
      "[is, 5, 4922, 1.1018830686230714]\n",
      "[been, 5, 4922, 1.1018830686230714]\n",
      "[a, 9, 4368, 1.8090794470514506]\n",
      "[\n",
      ", 14, 14593, 1.0446754760874852]\n",
      "[sailor, 29, 35, 7.805863155637033]\n",
      "[in, 2, 3240, 0.6037339589135424]\n",
      "[his, 3, 3013, 1.081836136677781]\n",
      "[time, 1, 339, 2.167915279759522]\n",
      "[hand, 1, 311, 2.254122474960738]\n",
      "[ , 8, 1201, 2.9824471067398246]\n",
      "[as, 6, 1151, 2.7372884476461445]\n",
      "[sailor, 29, 35, 7.805863155637033]\n",
      "[as, 6, 1151, 2.7372884476461445]\n",
      "[dock, 1, 1, 7.993915387139972]\n",
      "[labourer, 1, 1, 7.993915387139972]\n",
      "[was, 5, 4922, 1.1018830686230714]\n",
      "[the, 13, 12912, 1.0929523540917792]\n",
      "[italian, 4, 41, 5.666637681555555]\n",
      "[sailor, 29, 35, 7.805863155637033]\n",
      "[whom, 4, 86, 4.925862452006355]\n",
      "[all, 2, 616, 2.263815604166398]\n",
      "[the, 13, 12912, 1.0929523540917792]\n",
      "[the, 13, 12912, 1.0929523540917792]\n",
      "[mediterranean, 2, 6, 6.895303098471863]\n",
      "[\n",
      ", 14, 14593, 1.0446754760874852]\n",
      "[sailor, 29, 35, 7.805863155637033]\n",
      "[come, 2, 320, 2.9187415719061454]\n",
      "[ashore, 2, 17, 5.853849223643701]\n",
      "[casually, 1, 3, 6.895303098471863]\n",
      "[but, 1, 824, 1.2797448572305006]\n",
      "[a, 9, 4368, 1.8090794470514506]\n",
      "[common, 1, 31, 4.559928182654826]\n",
      "[sailor, 29, 35, 7.805863155637033]\n",
      "[i, 7, 1601, 2.561441823198571]\n",
      "[would, 1, 618, 1.5674269296822816]\n",
      "[call, 1, 127, 3.149728300681381]\n",
      "[cargadores, 1, 83, 3.5750747793433746]\n",
      "[that, 3, 1757, 1.6211645876209848]\n",
      "[italian, 4, 41, 5.666637681555555]\n",
      "[sailor, 29, 35, 7.805863155637033]\n",
      "[of, 4, 7643, 0.43866427301697886]\n",
      "[whom, 4, 86, 4.925862452006355]\n",
      "[i, 7, 1601, 2.561441823198571]\n",
      "[of, 4, 7643, 0.43866427301697886]\n",
      "[that, 3, 1757, 1.6211645876209848]\n",
      "[genoese, 1, 9, 5.796690809803753]\n",
      "[sailor, 29, 35, 7.805863155637033]\n",
      "[who, 1, 356, 2.118984656287942]\n",
      "[like, 2, 382, 2.7416419590933425]\n",
      "[me, 7, 1601, 2.561441823198571]\n",
      "[an, 1, 660, 1.501675552119501]\n",
      "[original, 1, 2, 7.3007682065800275]\n",
      "[italian, 4, 41, 5.666637681555555]\n",
      "[sailor, 29, 35, 7.805863155637033]\n",
      "[whom, 4, 86, 4.925862452006355]\n",
      "[i, 7, 1601, 2.561441823198571]\n",
      "[allowed, 1, 27, 4.698078521135643]\n",
      "[chirruped, 1, 2, 7.3007682065800275]\n",
      "[softly, 1, 10, 5.691330294145927]\n",
      "[as, 6, 1151, 2.7372884476461445]\n",
      "[sailors, 29, 35, 7.805863155637033]\n",
      "[\n",
      ", 14, 14593, 1.0446754760874852]\n",
      "[do, 1, 655, 1.5092801515047203]\n",
      "[to, 4, 3999, 1.0864101394130448]\n",
      "[as, 6, 1151, 2.7372884476461445]\n",
      "[\n",
      ", 14, 14593, 1.0446754760874852]\n",
      "[a, 9, 4368, 1.8090794470514506]\n",
      "[sailor, 29, 35, 7.805863155637033]\n",
      "[of, 4, 7643, 0.43866427301697886]\n",
      "[course, 1, 89, 3.5052790174078323]\n",
      "[i, 7, 1601, 2.561441823198571]\n",
      "[to, 4, 3999, 1.0864101394130448]\n",
      "[a, 9, 4368, 1.8090794470514506]\n",
      "[\n",
      ", 14, 14593, 1.0446754760874852]\n",
      "[sailors, 29, 35, 7.805863155637033]\n",
      "[ear, 1, 42, 4.256245768856604]\n",
      "[on, 1, 1272, 0.8455696432399047]\n",
      "[such, 1, 108, 3.3117841600157525]\n",
      "[\n",
      ", 14, 14593, 1.0446754760874852]\n",
      "[the, 13, 12912, 1.0929523540917792]\n",
      "[old, 2, 302, 2.976635550325048]\n",
      "[sailors, 29, 35, 7.805863155637033]\n",
      "[aspect, 1, 20, 4.9981831135859816]\n",
      "[was, 5, 4922, 1.1018830686230714]\n",
      "[very, 1, 358, 2.113382400739272]\n",
      "[cast, 1, 22, 4.902872933781657]\n",
      "[the, 13, 12912, 1.0929523540917792]\n",
      "[old, 2, 302, 2.976635550325048]\n",
      "[sailor, 29, 35, 7.805863155637033]\n",
      "[with, 2, 1925, 1.1243813209780331]\n",
      "[all, 2, 616, 2.263815604166398]\n",
      "[his, 3, 3013, 1.081836136677781]\n",
      "[especially, 1, 15, 5.285865186037762]\n",
      "[as, 6, 1151, 2.7372884476461445]\n",
      "[to, 4, 3999, 1.0864101394130448]\n",
      "[sailors, 29, 35, 7.805863155637033]\n",
      "[it, 1, 1533, 0.6589335082681582]\n",
      "[was, 5, 4922, 1.1018830686230714]\n",
      "[different, 1, 16, 5.221326664900191]\n",
      "[his, 3, 3013, 1.081836136677781]\n",
      "[leisure, 1, 10, 5.691330294145927]\n",
      "[this, 1, 578, 1.6343415184675947]\n",
      "[sailor, 29, 35, 7.805863155637033]\n",
      "[felt, 1, 119, 3.2147918940284432]\n",
      "[himself, 1, 338, 2.1708694916569535]\n",
      "[\n",
      ", 14, 14593, 1.0446754760874852]\n",
      "[boats, 1, 50, 4.0818923817118264]\n",
      "[ropes, 1, 14, 5.354858057524714]\n",
      "[chains, 1, 11, 5.596020114341602]\n",
      "[sailors, 29, 35, 7.805863155637033]\n",
      "[ , 8, 1201, 2.9824471067398246]\n",
      "[of, 4, 7643, 0.43866427301697886]\n",
      "[a, 9, 4368, 1.8090794470514506]\n",
      "[die, 1, 81, 3.5994662324675337]\n",
      "[ha, 2, 31, 5.253075363214771]\n",
      "[ha, 2, 31, 5.253075363214771]\n",
      "[sailors, 29, 35, 7.805863155637033]\n",
      "[like, 2, 382, 2.7416419590933425]\n",
      "[myself, 2, 37, 5.0761446550556935]\n",
      "[there, 1, 514, 1.7516921216848074]\n",
      "[too, 1, 221, 2.5957526856222195]\n",
      "[ , 8, 1201, 2.9824471067398246]\n",
      "[a, 9, 4368, 1.8090794470514506]\n",
      "[sailor, 29, 35, 7.805863155637033]\n",
      "[i, 7, 1601, 2.561441823198571]\n",
      "[may, 1, 119, 3.2147918940284432]\n",
      "[let, 1, 120, 3.206423644357926]\n",
      "[ , 8, 1201, 2.9824471067398246]\n",
      "[nostromo, 1, 309, 2.260574110242227]\n",
      "[the, 13, 12912, 1.0929523540917792]\n",
      "[sailor, 29, 35, 7.805863155637033]\n",
      "[whom, 4, 86, 4.925862452006355]\n",
      "[i, 7, 1601, 2.561441823198571]\n",
      "[\n",
      ", 14, 14593, 1.0446754760874852]\n",
      "[married, 1, 13, 5.428966029678436]\n",
      "[myself, 2, 37, 5.0761446550556935]\n",
      "[a, 9, 4368, 1.8090794470514506]\n",
      "[sailor, 29, 35, 7.805863155637033]\n",
      "[should, 1, 89, 3.5052790174078323]\n",
      "[\n",
      ", 14, 14593, 1.0446754760874852]\n",
      "[exercise, 1, 14, 5.354858057524714]\n",
      "[runaway, 1, 1, 7.993915387139972]\n",
      "[italian, 4, 41, 5.666637681555555]\n",
      "[\n",
      ", 14, 14593, 1.0446754760874852]\n",
      "[sailor, 29, 35, 7.805863155637033]\n",
      "[for, 2, 1327, 1.4963865333677102]\n",
      "[a, 9, 4368, 1.8090794470514506]\n",
      "[foreman, 1, 5, 6.384477474705872]\n",
      "[ , 8, 1201, 2.9824471067398246]\n",
      "[a, 9, 4368, 1.8090794470514506]\n",
      "[mediterranean, 2, 6, 6.895303098471863]\n",
      "[sailor, 29, 35, 7.805863155637033]\n",
      "[come, 2, 320, 2.9187415719061454]\n",
      "[ashore, 2, 17, 5.853849223643701]\n",
      "[to, 4, 3999, 1.0864101394130448]\n"
     ]
    }
   ],
   "source": [
    "import csv\n",
    "\n",
    "header = ['term', 'freq', 'doc_freq', 'mut_inf_sco']\n",
    "\n",
    "with open('assignment1_output_cds_lang.csv', 'w', encoding='UTF8') as f:\n",
    "    writer = csv.writer(f)\n",
    "\n",
    "    # Write the header\n",
    "    writer.writerow(header)\n",
    "\n",
    "    # Write multiple rows\n",
    "    for out in output:\n",
    "        writer.writerow(out)\n",
    "        print(out)"
   ]
  }
 ],
 "metadata": {
  "kernelspec": {
   "display_name": "Python 3 ",
   "language": "python",
   "name": "python3"
  },
  "language_info": {
   "codemirror_mode": {
    "name": "ipython",
    "version": 3
   },
   "file_extension": ".py",
   "mimetype": "text/x-python",
   "name": "python",
   "nbconvert_exporter": "python",
   "pygments_lexer": "ipython3",
   "version": "3.9.6"
  }
 },
 "nbformat": 4,
 "nbformat_minor": 5
}
